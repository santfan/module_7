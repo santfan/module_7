{
  "nbformat": 4,
  "nbformat_minor": 0,
  "metadata": {
    "colab": {
      "provenance": [],
      "authorship_tag": "ABX9TyNMHWZpLxhkK6SgGEyJWfct",
      "include_colab_link": true
    },
    "kernelspec": {
      "name": "python3",
      "display_name": "Python 3"
    },
    "language_info": {
      "name": "python"
    }
  },
  "cells": [
    {
      "cell_type": "markdown",
      "metadata": {
        "id": "view-in-github",
        "colab_type": "text"
      },
      "source": [
        "<a href=\"https://colab.research.google.com/github/santfan/module_7/blob/main/module_7_5_google.ipynb\" target=\"_parent\"><img src=\"https://colab.research.google.com/assets/colab-badge.svg\" alt=\"Open In Colab\"/></a>"
      ]
    },
    {
      "cell_type": "code",
      "execution_count": 1,
      "metadata": {
        "id": "GVXmm7toBV33",
        "colab": {
          "base_uri": "https://localhost:8080/"
        },
        "outputId": "275275f6-f7bb-44ac-fc25-1b90f4057cbd"
      },
      "outputs": [
        {
          "output_type": "stream",
          "name": "stdout",
          "text": [
            "Обнаружен файл: README.md\n",
            "Путь: ./sample_data/README.md\n",
            "Время изменения: 07.11.2024 15:07, \n",
            "Размер: 962 байт, \n",
            "Родительская директория: ./sample_data\n",
            "\n",
            "Обнаружен файл: anscombe.json\n",
            "Путь: ./sample_data/anscombe.json\n",
            "Время изменения: 07.11.2024 15:07, \n",
            "Размер: 1697 байт, \n",
            "Родительская директория: ./sample_data\n",
            "\n",
            "Обнаружен файл: california_housing_train.csv\n",
            "Путь: ./sample_data/california_housing_train.csv\n",
            "Время изменения: 07.11.2024 15:07, \n",
            "Размер: 1706430 байт, \n",
            "Родительская директория: ./sample_data\n",
            "\n",
            "Обнаружен файл: mnist_train_small.csv\n",
            "Путь: ./sample_data/mnist_train_small.csv\n",
            "Время изменения: 07.11.2024 15:07, \n",
            "Размер: 36523880 байт, \n",
            "Родительская директория: ./sample_data\n",
            "\n",
            "Обнаружен файл: california_housing_test.csv\n",
            "Путь: ./sample_data/california_housing_test.csv\n",
            "Время изменения: 07.11.2024 15:07, \n",
            "Размер: 301141 байт, \n",
            "Родительская директория: ./sample_data\n",
            "\n",
            "Обнаружен файл: mnist_test.csv\n",
            "Путь: ./sample_data/mnist_test.csv\n",
            "Время изменения: 07.11.2024 15:07, \n",
            "Размер: 18289443 байт, \n",
            "Родительская директория: ./sample_data\n",
            "\n"
          ]
        }
      ],
      "source": [
        "# Импортируем небходимые библиотеки\n",
        "import os\n",
        "import time\n",
        "\n",
        "# Ввиду того что структура каталогов очень большая ограничим диапазон и\n",
        "# вместо '.' (корневая директория пользователя)\n",
        "# установим место старта сканирования в './sample_data'\n",
        "directory = './sample_data'\n",
        "# Пробежимся по дереву\n",
        "for root, dirs, files in os.walk(directory):\n",
        "    # теперь пробежимся по полученному результату итерации\n",
        "    for file in files:\n",
        "        # Получим путь к файлу относительно указанной директории поиска\n",
        "        filepath = os.path.join(root,file)\n",
        "        # Получим время изменение файла\n",
        "        filetime = os.path.getmtime(filepath)\n",
        "        # Отформатируем полученное время в удобчитаемый вид\n",
        "        # (день, месяц, 4 цифры и локальное время в виде час, минута)\n",
        "        formatted_time = time.strftime(\"%d.%m.%Y %H:%M\", time.localtime())\n",
        "        # Запроисм размер файла\n",
        "        filesize = os.path.getsize(filepath)\n",
        "        # Получим родительскую директорию\n",
        "        parent_dir = os.path.dirname(filepath)\n",
        "\n",
        "        # Выведем полученный результат итерации в данной директории\n",
        "        print(f'Обнаружен файл: {file}')\n",
        "        print(f'Путь: {filepath}')\n",
        "        print(f'Время изменения: {formatted_time}, ')\n",
        "        print(f'Размер: {filesize} байт, ')\n",
        "        print(f'Родительская директория: {parent_dir}')\n",
        "        print()"
      ]
    },
    {
      "cell_type": "code",
      "source": [],
      "metadata": {
        "id": "w6RNB7MWBgfi"
      },
      "execution_count": 1,
      "outputs": []
    }
  ]
}