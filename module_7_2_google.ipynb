{
  "nbformat": 4,
  "nbformat_minor": 0,
  "metadata": {
    "colab": {
      "provenance": [],
      "authorship_tag": "ABX9TyORZBc/QTwkMEjfctEjmY8F",
      "include_colab_link": true
    },
    "kernelspec": {
      "name": "python3",
      "display_name": "Python 3"
    },
    "language_info": {
      "name": "python"
    }
  },
  "cells": [
    {
      "cell_type": "markdown",
      "metadata": {
        "id": "view-in-github",
        "colab_type": "text"
      },
      "source": [
        "<a href=\"https://colab.research.google.com/github/santfan/module_7/blob/main/module_7_2_google.ipynb\" target=\"_parent\"><img src=\"https://colab.research.google.com/assets/colab-badge.svg\" alt=\"Open In Colab\"/></a>"
      ]
    },
    {
      "cell_type": "code",
      "execution_count": 4,
      "metadata": {
        "id": "0k0NeP1rn1IU"
      },
      "outputs": [],
      "source": [
        "def custom_file(file_name, strings):\n",
        "  result_dict = {}\n",
        "  num = 0\n",
        "  file = open(file_name, 'a', encoding='utf-8')\n",
        "  for string in strings:\n",
        "    num += 1\n",
        "    cursor = file.tell()\n",
        "    result_dict[(num, cursor)] = string\n",
        "    file.write(string + '\\n')\n",
        "  file.close()\n",
        "  return result_dict\n"
      ]
    },
    {
      "cell_type": "code",
      "source": [
        "info = ['Text for tell.',\n",
        "    'Используйте кодировку utf-8.',\n",
        "    'Because there are 2 languages!',\n",
        "    'Спасибо!']"
      ],
      "metadata": {
        "id": "E_bQEhIAqQu2"
      },
      "execution_count": 5,
      "outputs": []
    },
    {
      "cell_type": "code",
      "source": [
        "for elem in custom_file('/content/test.txt', info).items():\n",
        "  print(elem)"
      ],
      "metadata": {
        "colab": {
          "base_uri": "https://localhost:8080/"
        },
        "id": "HAKxvMuyqhs7",
        "outputId": "d3aadaaf-8e61-43c1-ee93-b83b25a14ab6"
      },
      "execution_count": 6,
      "outputs": [
        {
          "output_type": "stream",
          "name": "stdout",
          "text": [
            "((1, 0), 'Text for tell.')\n",
            "((2, 15), 'Используйте кодировку utf-8.')\n",
            "((3, 64), 'Because there are 2 languages!')\n",
            "((4, 95), 'Спасибо!')\n"
          ]
        }
      ]
    },
    {
      "cell_type": "code",
      "source": [],
      "metadata": {
        "id": "NEuqKxmFr0cB"
      },
      "execution_count": null,
      "outputs": []
    }
  ]
}