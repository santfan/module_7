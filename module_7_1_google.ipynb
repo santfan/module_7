{
  "nbformat": 4,
  "nbformat_minor": 0,
  "metadata": {
    "colab": {
      "provenance": [],
      "authorship_tag": "ABX9TyOuPs32KAP5d/PB30dKydvp",
      "include_colab_link": true
    },
    "kernelspec": {
      "name": "python3",
      "display_name": "Python 3"
    },
    "language_info": {
      "name": "python"
    }
  },
  "cells": [
    {
      "cell_type": "markdown",
      "metadata": {
        "id": "view-in-github",
        "colab_type": "text"
      },
      "source": [
        "<a href=\"https://colab.research.google.com/github/santfan/module_7/blob/main/module_7_1_google.ipynb\" target=\"_parent\"><img src=\"https://colab.research.google.com/assets/colab-badge.svg\" alt=\"Open In Colab\"/></a>"
      ]
    },
    {
      "cell_type": "code",
      "execution_count": 1,
      "metadata": {
        "id": "rGLLFXN7EV0O"
      },
      "outputs": [],
      "source": [
        "class Product:\n",
        "  def __init__(self, name: str, weight: float, category: str):\n",
        "    self.name = name\n",
        "    self.weight = weight\n",
        "    self.category = category\n",
        "\n",
        "  def __str__(self) -> str:\n",
        "    return f'{self.name}, {self.weight}, {self.category}'"
      ]
    },
    {
      "cell_type": "code",
      "source": [
        "class Shop():\n",
        "  __file_name = '/content/products.txt'\n",
        "\n",
        "  def get_products(self):\n",
        "    file = open(self.__file_name, 'r')\n",
        "    products = file.read()\n",
        "    file.close()\n",
        "    return products\n",
        "\n",
        "  def add(self, *products):\n",
        "    current_products = self.get_products()\n",
        "    file = open(self.__file_name, 'a')\n",
        "    for product in products:\n",
        "      if str(product) not in current_products:\n",
        "        file.write(str(product) + '\\n')\n",
        "        current_products += str(product) + '\\n'\n",
        "      else:\n",
        "        print(f'Такой товар {product} уже есть в магазине')\n",
        "    file.close()"
      ],
      "metadata": {
        "id": "_Zj7AHD9Gdd3"
      },
      "execution_count": 2,
      "outputs": []
    },
    {
      "cell_type": "code",
      "source": [
        "s1 = Shop()\n",
        "p1 = Product('Potato', 50.5, 'Vegetables')\n",
        "p2 = Product('Spaghetti', 3.4, 'Groceries')\n",
        "p3 = Product('Potato', 5.5, 'Vegetables')\n",
        "\n",
        "print(p2)"
      ],
      "metadata": {
        "colab": {
          "base_uri": "https://localhost:8080/"
        },
        "id": "r7LjOYYnSmHK",
        "outputId": "26c2a050-e1b5-48f5-b4d9-ed7b6a71acd5"
      },
      "execution_count": 3,
      "outputs": [
        {
          "output_type": "stream",
          "name": "stdout",
          "text": [
            "Spaghetti, 3.4, Groceries\n"
          ]
        }
      ]
    },
    {
      "cell_type": "code",
      "source": [
        "s1.add(p1, p2, p3)"
      ],
      "metadata": {
        "id": "jE-RwpgUKxiv"
      },
      "execution_count": 4,
      "outputs": []
    },
    {
      "cell_type": "code",
      "source": [
        "s1.add(p1, p2, p3)"
      ],
      "metadata": {
        "colab": {
          "base_uri": "https://localhost:8080/"
        },
        "id": "qWV1RHH5VJSa",
        "outputId": "9f66373d-2e8f-415f-c012-26c67c403d2e"
      },
      "execution_count": 5,
      "outputs": [
        {
          "output_type": "stream",
          "name": "stdout",
          "text": [
            "Такой товар Potato, 50.5, Vegetables уже есть в магазине\n",
            "Такой товар Spaghetti, 3.4, Groceries уже есть в магазине\n",
            "Такой товар Potato, 5.5, Vegetables уже есть в магазине\n"
          ]
        }
      ]
    },
    {
      "cell_type": "code",
      "source": [
        "print(s1.get_products())"
      ],
      "metadata": {
        "colab": {
          "base_uri": "https://localhost:8080/"
        },
        "id": "X6f6qxMLVM_M",
        "outputId": "1f20cec8-7f6b-491b-b0e7-227529bf4588"
      },
      "execution_count": 6,
      "outputs": [
        {
          "output_type": "stream",
          "name": "stdout",
          "text": [
            "Potato, 50.5, Vegetables\n",
            "Spaghetti, 3.4, Groceries\n",
            "Potato, 5.5, Vegetables\n",
            "\n"
          ]
        }
      ]
    },
    {
      "cell_type": "code",
      "source": [],
      "metadata": {
        "id": "OpdOWP_BXhG5"
      },
      "execution_count": null,
      "outputs": []
    }
  ]
}