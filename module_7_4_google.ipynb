{
  "nbformat": 4,
  "nbformat_minor": 0,
  "metadata": {
    "colab": {
      "provenance": [],
      "authorship_tag": "ABX9TyPTBdbVHZdRSbANX3AhwJNj",
      "include_colab_link": true
    },
    "kernelspec": {
      "name": "python3",
      "display_name": "Python 3"
    },
    "language_info": {
      "name": "python"
    }
  },
  "cells": [
    {
      "cell_type": "markdown",
      "metadata": {
        "id": "view-in-github",
        "colab_type": "text"
      },
      "source": [
        "<a href=\"https://colab.research.google.com/github/santfan/module_7/blob/main/module_7_4_google.ipynb\" target=\"_parent\"><img src=\"https://colab.research.google.com/assets/colab-badge.svg\" alt=\"Open In Colab\"/></a>"
      ]
    },
    {
      "cell_type": "code",
      "execution_count": 16,
      "metadata": {
        "id": "LiJXVmiSVJE-"
      },
      "outputs": [],
      "source": [
        "# Входные данные\n",
        "team1_num = 5\n",
        "team2_num = 6\n",
        "score_1 = 40\n",
        "score_2 = 42\n",
        "team1_time = 1552.512\n",
        "team2_time = 2153.31451\n",
        "tasks_total = 82\n",
        "time_avg = 45.2\n",
        "challenge_result = 'Победа команды Волшебники данных!'"
      ]
    },
    {
      "cell_type": "code",
      "source": [
        "# Использование форматирования строк методом % для одного параметра\n",
        "print('В команде %s' % 'Мастера кода участников: ', team1_num, '!', sep='')"
      ],
      "metadata": {
        "colab": {
          "base_uri": "https://localhost:8080/"
        },
        "id": "mDOw-TfEaAVp",
        "outputId": "7bb85f35-9c56-42a6-f30e-91ab192d1f1c"
      },
      "execution_count": 17,
      "outputs": [
        {
          "output_type": "stream",
          "name": "stdout",
          "text": [
            "В команде Мастера кода участников: 5!\n"
          ]
        }
      ]
    },
    {
      "cell_type": "code",
      "source": [
        "# Использование форматирования строк методом % для нескольких параметров\n",
        "print('Итого сегодня в командах участников: %d и %d !' % (team1_num, team2_num))"
      ],
      "metadata": {
        "colab": {
          "base_uri": "https://localhost:8080/"
        },
        "id": "Di2XRliWaiwx",
        "outputId": "17419e7a-dff2-4b0f-e88e-858e89413c97"
      },
      "execution_count": 19,
      "outputs": [
        {
          "output_type": "stream",
          "name": "stdout",
          "text": [
            "Итого сегодня в командах участников: 5 и 6 !\n"
          ]
        }
      ]
    },
    {
      "cell_type": "code",
      "source": [
        "# Использование форматирования методом format() для одного параметра\n",
        "print('Команда Волшебники данных решила задач: {} !'.format(score_2))"
      ],
      "metadata": {
        "colab": {
          "base_uri": "https://localhost:8080/"
        },
        "id": "cfYN77Iudd40",
        "outputId": "f10f54dd-f6a4-488f-bd01-dd0fd77f5fe9"
      },
      "execution_count": 20,
      "outputs": [
        {
          "output_type": "stream",
          "name": "stdout",
          "text": [
            "Команда Волшебники данных решила задач: 42 !\n"
          ]
        }
      ]
    },
    {
      "cell_type": "code",
      "source": [
        "# Использование форматирования методом format() для нескольких параметров\n",
        "print('{} решили задачи за {}с'.format('Волшебники данных', round(team2_time, 1)))"
      ],
      "metadata": {
        "colab": {
          "base_uri": "https://localhost:8080/"
        },
        "id": "rGmIJBMee3XY",
        "outputId": "d8774a48-4322-4afb-8dc7-7cd92736302e"
      },
      "execution_count": 26,
      "outputs": [
        {
          "output_type": "stream",
          "name": "stdout",
          "text": [
            "Волшебники данных решили задачи за 2153.3с\n"
          ]
        }
      ]
    },
    {
      "cell_type": "code",
      "source": [
        "# Использование форматирования методом f-строки\n",
        "print(f'Команды решили {score_1} и {score_2} задач.')"
      ],
      "metadata": {
        "colab": {
          "base_uri": "https://localhost:8080/"
        },
        "id": "grLI4z52fzIc",
        "outputId": "b7dcba4f-a39a-43f5-e92e-ab60bff698cc"
      },
      "execution_count": 28,
      "outputs": [
        {
          "output_type": "stream",
          "name": "stdout",
          "text": [
            "Команды решили 40 и 42 задач.\n"
          ]
        }
      ]
    },
    {
      "cell_type": "code",
      "source": [
        "# Расчитаем победителя\n",
        "if score_1 > score_2 or score_1 == score_2 and team1_time > team2_time:\n",
        "  result = 'Победа команды Мастера кода!'\n",
        "elif score_1 < score_2 or score_1 == score_2 and team1_time < team2_time:\n",
        "  result = 'Победа команды Волшебники Данных!'\n",
        "else:\n",
        "  result = 'Ничья!'"
      ],
      "metadata": {
        "id": "RqWL6bJVhyAn"
      },
      "execution_count": 29,
      "outputs": []
    },
    {
      "cell_type": "code",
      "source": [
        "# Выедем результат форматированный методом f-строк\n",
        "print(f'Результат: {result}')"
      ],
      "metadata": {
        "colab": {
          "base_uri": "https://localhost:8080/"
        },
        "id": "hyM3CDrHj_X2",
        "outputId": "d6980d14-72bb-443a-c26c-8a24d560430e"
      },
      "execution_count": 32,
      "outputs": [
        {
          "output_type": "stream",
          "name": "stdout",
          "text": [
            "Результат: Победа команды Волшебники Данных!\n"
          ]
        }
      ]
    },
    {
      "cell_type": "code",
      "source": [
        "# Итоговый вывод\n",
        "print(f'Сегодня было решено {tasks_total} задач, в среднем по {time_avg} секунды на задачу!')"
      ],
      "metadata": {
        "colab": {
          "base_uri": "https://localhost:8080/"
        },
        "id": "HpWNaGWNkoyV",
        "outputId": "753557e6-4c98-45a6-bf40-2da3c5b78916"
      },
      "execution_count": 33,
      "outputs": [
        {
          "output_type": "stream",
          "name": "stdout",
          "text": [
            "Сегодня было решено 82 задач, в среднем по 45.2 секунды на задачу!\n"
          ]
        }
      ]
    },
    {
      "cell_type": "code",
      "source": [],
      "metadata": {
        "id": "IIgxTYJ_k_e0"
      },
      "execution_count": null,
      "outputs": []
    }
  ]
}