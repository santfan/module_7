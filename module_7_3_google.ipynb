{
  "nbformat": 4,
  "nbformat_minor": 0,
  "metadata": {
    "colab": {
      "provenance": [],
      "authorship_tag": "ABX9TyO+WvyjUwoeaSDDHEmHqFvG",
      "include_colab_link": true
    },
    "kernelspec": {
      "name": "python3",
      "display_name": "Python 3"
    },
    "language_info": {
      "name": "python"
    }
  },
  "cells": [
    {
      "cell_type": "markdown",
      "metadata": {
        "id": "view-in-github",
        "colab_type": "text"
      },
      "source": [
        "<a href=\"https://colab.research.google.com/github/santfan/module_7/blob/main/module_7_3_google.ipynb\" target=\"_parent\"><img src=\"https://colab.research.google.com/assets/colab-badge.svg\" alt=\"Open In Colab\"/></a>"
      ]
    },
    {
      "cell_type": "code",
      "execution_count": 1,
      "metadata": {
        "id": "yKLhnWx12Uc7"
      },
      "outputs": [],
      "source": [
        "# Объявим класс WordFinder\n",
        "class WordFinder:\n",
        "  '''Класс принимает неограниченное колличество файлов\n",
        "  В качестве аргументов принимаются файлы.\n",
        "  Обращение к аргументам осуществляется по именам'''\n",
        "\n",
        "# Функция инициации\n",
        "  def __init__(self, *file_names):\n",
        "    self.file_names = file_names\n",
        "\n",
        "# Функция формирования списка слов в файле\n",
        "  def get_all_words(self):\n",
        "    # Установим словарь слов файла в нулевое значение\n",
        "    all_words = {}\n",
        "    # Для каждого файла\n",
        "    for file_name in self.file_names:\n",
        "      # Откроем файл как file\n",
        "      with open(file_name, 'r', encoding='utf-8') as file:\n",
        "        # Прочитаем файл и приведем все слова к нижнему регистру\n",
        "        words = file.read().lower()\n",
        "        # Сформируем словарь с ключом название файла и исключим знаки пунктуации\n",
        "        if words not in [',', '.', '=', '!', '?', ';', ':', ' - ']:\n",
        "          all_words[file_name] = words.split()\n",
        "    # Вернем словарь слов\n",
        "    return all_words\n",
        "\n",
        "# Функция поиска позиции слова\n",
        "  def find(self, word):\n",
        "    # Приведем слово к нижнему регистру\n",
        "    word = word.lower()\n",
        "    # Позицию искомого слова установим в пустое значение\n",
        "    word_pos = {}\n",
        "\n",
        "    # Отберем в словаре патерны ключ-значения\n",
        "    for file_name, words in self.get_all_words().items():\n",
        "      # Если искомое слово в списке слов\n",
        "      if word in words:\n",
        "        # Установим значение индекса\n",
        "        word_pos[file_name] = words.index(word) + 1\n",
        "\n",
        "    # Вернем значение позиции\n",
        "    return word_pos\n",
        "\n",
        "# Функция подсчета вхождений слова\n",
        "  def count(self, word):\n",
        "    # Приведем слово к нижнему регистру\n",
        "    word = word.lower()\n",
        "    # Счетчик вхождения в пустое значени\n",
        "    word_count ={}\n",
        "    # Пробежим по словарю и отберем пары ключ-значение\n",
        "    for file_name, words in self.get_all_words().items():\n",
        "      # Если слово в списке слов\n",
        "      if word in words:\n",
        "        # Посчитаем количество вхождений\n",
        "        word_count[file_name] = words.count(word)\n",
        "\n",
        "    return word_count\n"
      ]
    },
    {
      "cell_type": "code",
      "source": [
        "# Проверка на тестовом файле\n",
        "finder2 = WordFinder('test_file.txt')"
      ],
      "metadata": {
        "id": "am-AYOvF8p7T"
      },
      "execution_count": 2,
      "outputs": []
    },
    {
      "cell_type": "code",
      "source": [
        "print(finder2.get_all_words())"
      ],
      "metadata": {
        "colab": {
          "base_uri": "https://localhost:8080/"
        },
        "id": "7wZ_Pz1x9Fpj",
        "outputId": "b699607c-5667-4372-9718-1037a4a1b9fa"
      },
      "execution_count": 3,
      "outputs": [
        {
          "output_type": "stream",
          "name": "stdout",
          "text": [
            "{'test_file.txt': [\"it's\", 'a', 'text', 'for', 'task', 'найти', 'везде,', 'используйте', 'его', 'для', 'самопроверки.', 'успехов', 'в', 'решении', 'задачи!', 'text', 'text', 'text']}\n"
          ]
        }
      ]
    },
    {
      "cell_type": "code",
      "source": [
        "print(finder2.find('Text'))"
      ],
      "metadata": {
        "colab": {
          "base_uri": "https://localhost:8080/"
        },
        "id": "5HLhjJx8_zgk",
        "outputId": "8717d84c-ea40-440e-c9d2-ea244d6cc2e1"
      },
      "execution_count": 4,
      "outputs": [
        {
          "output_type": "stream",
          "name": "stdout",
          "text": [
            "{'test_file.txt': 3}\n"
          ]
        }
      ]
    },
    {
      "cell_type": "code",
      "source": [
        "print(finder2.count('TeXt'))"
      ],
      "metadata": {
        "colab": {
          "base_uri": "https://localhost:8080/"
        },
        "id": "6JBVH5ImHW4w",
        "outputId": "b41e3a41-d7a8-4910-86fc-d8bace36db1c"
      },
      "execution_count": 5,
      "outputs": [
        {
          "output_type": "stream",
          "name": "stdout",
          "text": [
            "{'test_file.txt': 4}\n"
          ]
        }
      ]
    },
    {
      "cell_type": "code",
      "source": [
        "# Проверка на файле Mother Goose - Monday’s Child\n",
        "finder1 = WordFinder('Mother Goose - Monday’s Child.txt',)\n",
        "print(finder1.get_all_words())\n",
        "print(finder1.find('Child'))\n",
        "print(finder1.count('Child'))"
      ],
      "metadata": {
        "id": "RiKa960UPPZC",
        "colab": {
          "base_uri": "https://localhost:8080/"
        },
        "outputId": "b6847cd0-c7cb-4e0a-eeb3-53728253866c"
      },
      "execution_count": 8,
      "outputs": [
        {
          "output_type": "stream",
          "name": "stdout",
          "text": [
            "{'Mother Goose - Monday’s Child.txt': ['monday’s', 'child', 'monday’s', 'child', 'is', 'fair', 'of', 'face', 'tuesday’s', 'child', 'is', 'full', 'of', 'grace', 'wednesday’s', 'child', 'is', 'full', 'of', 'woe', 'thursday’s', 'child', 'has', 'far', 'to', 'go,', 'friday’s', 'child', 'is', 'loving', 'and', 'giving,', 'saturday’s', 'child', 'works', 'hard', 'for', 'a', 'living,', 'and', 'the', 'child', 'that', 'is', 'born', 'on', 'the', 'sabbath', 'day', 'is', 'bonny', 'and', 'blithe,', 'and', 'good', 'and', 'gay.', 'mother', 'goose']}\n",
            "{'Mother Goose - Monday’s Child.txt': 2}\n",
            "{'Mother Goose - Monday’s Child.txt': 8}\n"
          ]
        }
      ]
    },
    {
      "cell_type": "code",
      "source": [
        "# Проверка на файле Rudyard Kipling - If\n",
        "finder3 = WordFinder('Rudyard Kipling - If.txt',)\n",
        "print(finder3.get_all_words())\n",
        "print(finder3.find('if'))\n",
        "print(finder3.count('if'))"
      ],
      "metadata": {
        "colab": {
          "base_uri": "https://localhost:8080/"
        },
        "id": "DksLFXT0F83M",
        "outputId": "6be53aa8-0f45-4e76-b37c-0965b3def9e5"
      },
      "execution_count": 10,
      "outputs": [
        {
          "output_type": "stream",
          "name": "stdout",
          "text": [
            "{'Rudyard Kipling - If.txt': ['if', 'if', 'you', 'can', 'keep', 'your', 'head', 'when', 'all', 'about', 'you', 'are', 'losing', 'theirs', 'and', 'blaming', 'it', 'on', 'you,', 'if', 'you', 'can', 'trust', 'yourself', 'when', 'all', 'men', 'doubt', 'you,', 'but', 'make', 'allowance', 'for', 'their', 'doubting', 'too;', 'if', 'you', 'can', 'wait', 'and', 'not', 'be', 'tired', 'by', 'waiting,', 'or', 'being', 'lied', 'about,', 'don’t', 'deal', 'in', 'lies,', 'or', 'being', 'hated,', 'don’t', 'give', 'way', 'to', 'hating,', 'and', 'yet', 'don’t', 'look', 'too', 'good,', 'nor', 'talk', 'too', 'wise:', 'if', 'you', 'can', 'dream', '—', 'and', 'not', 'make', 'dreams', 'your', 'master;', 'if', 'you', 'can', 'think', '—', 'and', 'not', 'make', 'thoughts', 'your', 'aim;', 'if', 'you', 'can', 'meet', 'with', 'triumph', 'and', 'disaster', 'and', 'treat', 'those', 'two', 'impostors', 'just', 'the', 'same;', 'if', 'you', 'can', 'bear', 'to', 'hear', 'the', 'truth', 'you’ve', 'spoken', 'twisted', 'by', 'knaves', 'to', 'make', 'a', 'trap', 'for', 'fools,', 'or', 'watch', 'the', 'things', 'you', 'gave', 'your', 'life', 'to,', 'broken,', 'and', 'stoop', 'and', 'build', '’em', 'up', 'with', 'worn-out', 'tools:', 'if', 'you', 'can', 'make', 'one', 'heap', 'of', 'all', 'your', 'winnings', 'and', 'risk', 'it', 'on', 'one', 'turn', 'of', 'pitch-and-toss,', 'and', 'lose,', 'and', 'start', 'again', 'at', 'your', 'beginnings', 'and', 'never', 'breathe', 'a', 'word', 'about', 'your', 'loss;', 'if', 'you', 'can', 'force', 'your', 'heart', 'and', 'nerve', 'and', 'sinew', 'to', 'serve', 'your', 'turn', 'long', 'after', 'they', 'are', 'gone,', 'and', 'so', 'hold', 'on', 'when', 'there', 'is', 'nothing', 'in', 'you', 'except', 'the', 'will', 'which', 'says', 'to', 'them:', '‘hold', 'on!’', 'if', 'you', 'can', 'talk', 'with', 'crowds', 'and', 'keep', 'your', 'virtue,', 'or', 'walk', 'with', 'kings', '—', 'nor', 'lose', 'the', 'common', 'touch,', 'if', 'neither', 'foes', 'nor', 'loving', 'friends', 'can', 'hurt', 'you,', 'if', 'all', 'men', 'count', 'with', 'you,', 'but', 'none', 'too', 'much;', 'if', 'you', 'can', 'fill', 'the', 'unforgiving', 'minute', 'with', 'sixty', 'seconds’', 'worth', 'of', 'distance', 'run,', 'yours', 'is', 'the', 'earth', 'and', 'everything', 'that’s', 'in', 'it,', 'and', '—', 'which', 'is', 'more', '—', 'you’ll', 'be', 'a', 'man,', 'my', 'son!', 'rudyard', 'kipling']}\n",
            "{'Rudyard Kipling - If.txt': 1}\n",
            "{'Rudyard Kipling - If.txt': 14}\n"
          ]
        }
      ]
    },
    {
      "cell_type": "code",
      "source": [
        "# Проверка на файле Walt Whitman - O Captain! My Captain!\n",
        "finder4 = WordFinder('Walt Whitman - O Captain! My Captain!.txt')\n",
        "print(finder4.get_all_words())\n",
        "print(finder4.find('captain'))\n",
        "print(finder4.count('captain'))"
      ],
      "metadata": {
        "colab": {
          "base_uri": "https://localhost:8080/"
        },
        "id": "hiTHX5VxHAPH",
        "outputId": "06b2deeb-a5ca-481a-fdfc-8a29cfe2888f"
      },
      "execution_count": 11,
      "outputs": [
        {
          "output_type": "stream",
          "name": "stdout",
          "text": [
            "{'Walt Whitman - O Captain! My Captain!.txt': ['o', 'captain!', 'my', 'captain!', 'o', 'captain!', 'my', 'captain!', 'our', 'fearful', 'trip', 'is', 'done,', 'the', 'ship', 'has', 'weather’d', 'every', 'rack,', 'the', 'prize', 'we', 'sought', 'is', 'won,', 'the', 'port', 'is', 'near,', 'the', 'bells', 'i', 'hear,', 'the', 'people', 'all', 'exulting,', 'while', 'follow', 'eyes', 'the', 'steady', 'keel,', 'the', 'vessel', 'grim', 'and', 'daring;', 'but', 'o', 'heart!', 'heart!', 'heart!', 'o', 'the', 'bleeding', 'drops', 'of', 'red,', 'where', 'on', 'the', 'deck', 'my', 'captain', 'lies,', 'fallen', 'cold', 'and', 'dead.', 'o', 'captain!', 'my', 'captain!', 'rise', 'up', 'and', 'hear', 'the', 'bells;', 'rise', 'up', '—', 'for', 'you', 'the', 'flag', 'is', 'flung', '—', 'for', 'you', 'the', 'bugle', 'trills,', 'for', 'you', 'bouquets', 'and', 'ribbon’d', 'wreaths', '—', 'for', 'you', 'the', 'shores', 'a', '-', 'crowding,', 'for', 'you', 'they', 'call,', 'the', 'swaying', 'mass,', 'their', 'eager', 'faces', 'turning;', 'here', 'captain!', 'dear', 'father!', 'this', 'arm', 'beneath', 'your', 'head!', 'it', 'is', 'some', 'dream', 'that', 'on', 'the', 'deck,', 'you’ve', 'fallen', 'cold', 'and', 'dead.', 'my', 'captain', 'does', 'not', 'answer,', 'his', 'lips', 'are', 'pale', 'and', 'still,', 'my', 'father', 'does', 'not', 'feel', 'my', 'arm,', 'he', 'has', 'no', 'pulse', 'nor', 'will,', 'the', 'ship', 'is', 'anchor’d', 'safe', 'and', 'sound,', 'its', 'voyage', 'closed', 'and', 'done,', 'from', 'fearful', 'trip', 'the', 'victor', 'ship', 'comes', 'in', 'with', 'object', 'won;', 'exult', 'o', 'shores,', 'and', 'ring', 'o', 'bells!', 'but', 'i', 'with', 'mournful', 'tread,', 'walk', 'the', 'deck', 'my', 'captain', 'lies,', 'fallen', 'cold', 'and', 'dead.', 'walt', 'whitman']}\n",
            "{'Walt Whitman - O Captain! My Captain!.txt': 65}\n",
            "{'Walt Whitman - O Captain! My Captain!.txt': 3}\n"
          ]
        }
      ]
    },
    {
      "cell_type": "code",
      "source": [
        "# Проверка на группе файлов\n",
        "finder5 = WordFinder('Walt Whitman - O Captain! My Captain!.txt',\n",
        "                      'Rudyard Kipling - If.txt',\n",
        "                      'Mother Goose - Monday’s Child.txt')\n",
        "print(finder5.get_all_words())\n",
        "print(finder5.find('the'))\n",
        "print(finder5.count('the'))"
      ],
      "metadata": {
        "colab": {
          "base_uri": "https://localhost:8080/"
        },
        "id": "gUDTNHXxHfvX",
        "outputId": "971976a1-d841-4ce3-8d79-54b581b07a49"
      },
      "execution_count": 12,
      "outputs": [
        {
          "output_type": "stream",
          "name": "stdout",
          "text": [
            "{'Walt Whitman - O Captain! My Captain!.txt': ['o', 'captain!', 'my', 'captain!', 'o', 'captain!', 'my', 'captain!', 'our', 'fearful', 'trip', 'is', 'done,', 'the', 'ship', 'has', 'weather’d', 'every', 'rack,', 'the', 'prize', 'we', 'sought', 'is', 'won,', 'the', 'port', 'is', 'near,', 'the', 'bells', 'i', 'hear,', 'the', 'people', 'all', 'exulting,', 'while', 'follow', 'eyes', 'the', 'steady', 'keel,', 'the', 'vessel', 'grim', 'and', 'daring;', 'but', 'o', 'heart!', 'heart!', 'heart!', 'o', 'the', 'bleeding', 'drops', 'of', 'red,', 'where', 'on', 'the', 'deck', 'my', 'captain', 'lies,', 'fallen', 'cold', 'and', 'dead.', 'o', 'captain!', 'my', 'captain!', 'rise', 'up', 'and', 'hear', 'the', 'bells;', 'rise', 'up', '—', 'for', 'you', 'the', 'flag', 'is', 'flung', '—', 'for', 'you', 'the', 'bugle', 'trills,', 'for', 'you', 'bouquets', 'and', 'ribbon’d', 'wreaths', '—', 'for', 'you', 'the', 'shores', 'a', '-', 'crowding,', 'for', 'you', 'they', 'call,', 'the', 'swaying', 'mass,', 'their', 'eager', 'faces', 'turning;', 'here', 'captain!', 'dear', 'father!', 'this', 'arm', 'beneath', 'your', 'head!', 'it', 'is', 'some', 'dream', 'that', 'on', 'the', 'deck,', 'you’ve', 'fallen', 'cold', 'and', 'dead.', 'my', 'captain', 'does', 'not', 'answer,', 'his', 'lips', 'are', 'pale', 'and', 'still,', 'my', 'father', 'does', 'not', 'feel', 'my', 'arm,', 'he', 'has', 'no', 'pulse', 'nor', 'will,', 'the', 'ship', 'is', 'anchor’d', 'safe', 'and', 'sound,', 'its', 'voyage', 'closed', 'and', 'done,', 'from', 'fearful', 'trip', 'the', 'victor', 'ship', 'comes', 'in', 'with', 'object', 'won;', 'exult', 'o', 'shores,', 'and', 'ring', 'o', 'bells!', 'but', 'i', 'with', 'mournful', 'tread,', 'walk', 'the', 'deck', 'my', 'captain', 'lies,', 'fallen', 'cold', 'and', 'dead.', 'walt', 'whitman'], 'Rudyard Kipling - If.txt': ['if', 'if', 'you', 'can', 'keep', 'your', 'head', 'when', 'all', 'about', 'you', 'are', 'losing', 'theirs', 'and', 'blaming', 'it', 'on', 'you,', 'if', 'you', 'can', 'trust', 'yourself', 'when', 'all', 'men', 'doubt', 'you,', 'but', 'make', 'allowance', 'for', 'their', 'doubting', 'too;', 'if', 'you', 'can', 'wait', 'and', 'not', 'be', 'tired', 'by', 'waiting,', 'or', 'being', 'lied', 'about,', 'don’t', 'deal', 'in', 'lies,', 'or', 'being', 'hated,', 'don’t', 'give', 'way', 'to', 'hating,', 'and', 'yet', 'don’t', 'look', 'too', 'good,', 'nor', 'talk', 'too', 'wise:', 'if', 'you', 'can', 'dream', '—', 'and', 'not', 'make', 'dreams', 'your', 'master;', 'if', 'you', 'can', 'think', '—', 'and', 'not', 'make', 'thoughts', 'your', 'aim;', 'if', 'you', 'can', 'meet', 'with', 'triumph', 'and', 'disaster', 'and', 'treat', 'those', 'two', 'impostors', 'just', 'the', 'same;', 'if', 'you', 'can', 'bear', 'to', 'hear', 'the', 'truth', 'you’ve', 'spoken', 'twisted', 'by', 'knaves', 'to', 'make', 'a', 'trap', 'for', 'fools,', 'or', 'watch', 'the', 'things', 'you', 'gave', 'your', 'life', 'to,', 'broken,', 'and', 'stoop', 'and', 'build', '’em', 'up', 'with', 'worn-out', 'tools:', 'if', 'you', 'can', 'make', 'one', 'heap', 'of', 'all', 'your', 'winnings', 'and', 'risk', 'it', 'on', 'one', 'turn', 'of', 'pitch-and-toss,', 'and', 'lose,', 'and', 'start', 'again', 'at', 'your', 'beginnings', 'and', 'never', 'breathe', 'a', 'word', 'about', 'your', 'loss;', 'if', 'you', 'can', 'force', 'your', 'heart', 'and', 'nerve', 'and', 'sinew', 'to', 'serve', 'your', 'turn', 'long', 'after', 'they', 'are', 'gone,', 'and', 'so', 'hold', 'on', 'when', 'there', 'is', 'nothing', 'in', 'you', 'except', 'the', 'will', 'which', 'says', 'to', 'them:', '‘hold', 'on!’', 'if', 'you', 'can', 'talk', 'with', 'crowds', 'and', 'keep', 'your', 'virtue,', 'or', 'walk', 'with', 'kings', '—', 'nor', 'lose', 'the', 'common', 'touch,', 'if', 'neither', 'foes', 'nor', 'loving', 'friends', 'can', 'hurt', 'you,', 'if', 'all', 'men', 'count', 'with', 'you,', 'but', 'none', 'too', 'much;', 'if', 'you', 'can', 'fill', 'the', 'unforgiving', 'minute', 'with', 'sixty', 'seconds’', 'worth', 'of', 'distance', 'run,', 'yours', 'is', 'the', 'earth', 'and', 'everything', 'that’s', 'in', 'it,', 'and', '—', 'which', 'is', 'more', '—', 'you’ll', 'be', 'a', 'man,', 'my', 'son!', 'rudyard', 'kipling'], 'Mother Goose - Monday’s Child.txt': ['monday’s', 'child', 'monday’s', 'child', 'is', 'fair', 'of', 'face', 'tuesday’s', 'child', 'is', 'full', 'of', 'grace', 'wednesday’s', 'child', 'is', 'full', 'of', 'woe', 'thursday’s', 'child', 'has', 'far', 'to', 'go,', 'friday’s', 'child', 'is', 'loving', 'and', 'giving,', 'saturday’s', 'child', 'works', 'hard', 'for', 'a', 'living,', 'and', 'the', 'child', 'that', 'is', 'born', 'on', 'the', 'sabbath', 'day', 'is', 'bonny', 'and', 'blithe,', 'and', 'good', 'and', 'gay.', 'mother', 'goose']}\n",
            "{'Walt Whitman - O Captain! My Captain!.txt': 14, 'Rudyard Kipling - If.txt': 109, 'Mother Goose - Monday’s Child.txt': 41}\n",
            "{'Walt Whitman - O Captain! My Captain!.txt': 18, 'Rudyard Kipling - If.txt': 7, 'Mother Goose - Monday’s Child.txt': 2}\n"
          ]
        }
      ]
    },
    {
      "cell_type": "code",
      "source": [],
      "metadata": {
        "id": "GerfCEnNILd3"
      },
      "execution_count": null,
      "outputs": []
    }
  ]
}